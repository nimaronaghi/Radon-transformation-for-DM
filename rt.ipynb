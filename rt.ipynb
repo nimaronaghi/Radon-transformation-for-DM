{
 "cells": [
  {
   "cell_type": "markdown",
   "id": "76a34bbc",
   "metadata": {},
   "source": [
    "## Setup and Data Loading\n",
    "First, we import the necessary libraries and mount Google Drive to access the data files stored there. This setup is crucial for loading the velocity data, which we will analyze."
   ]
  },
  {
   "cell_type": "code",
   "execution_count": null,
   "id": "a0cd641f",
   "metadata": {},
   "outputs": [],
   "source": [
    "import numpy as np\n",
    "from scipy.integrate import tplquad, dblquad\n",
    "from google.colab import drive\n",
    "import math\n",
    "\n",
    "# Mount Google Drive to access the data file\n",
    "drive.mount('/content/drive')\n",
    "# Load velocity data from a numpy file stored on Google Drive\n",
    "vel = np.load('/content/drive/MyDrive/Colab Notebooks/dmvposnp.npy')"
   ]
  },
  {
   "cell_type": "markdown",
   "id": "5a5e6b7f",
   "metadata": {},
   "source": [
    "## Constants and Initial Data Preparation\n",
    "Define constants used throughout the notebook and prepare data for further processing. `AtomicMassSi` is the atomic mass of silicon in atomic mass units (amu), and `bin_number` defines how finely we bin our data in histograms."
   ]
  },
  {
   "cell_type": "code",
   "execution_count": null,
   "id": "456a35c4",
   "metadata": {},
   "outputs": [],
   "source": [
    "AtomicMassSi = 28.085  # Atomic mass of silicon in amu\n",
    "bin_number = 10  # Number of bins for the histogram\n",
    "\n",
    "# Calculate ranges for each component and create bins\n",
    "ranges = [(vel[:, i].min(), vel[:, i].max()) for i in range(3)]\n",
    "bins = [np.linspace(ranges[i][0], ranges[i][1], bin_number) for i in range(3)]\n",
    "hist, edges = np.histogramdd(vel[:, :3], bins=bins, density=True)\n",
    "\n",
    "# Calculate bin widths based on the ranges\n",
    "dx = (ranges[0][1] - ranges[0][0]) / bin_number\n",
    "dy = (ranges[1][1] - ranges[1][0]) / bin_number\n",
    "dz = (ranges[2][1] - ranges[2][0]) / bin_number"
   ]
  },
  {
   "cell_type": "markdown",
   "id": "99e99abc",
   "metadata": {},
   "source": [
    "## Helper Functions\n",
    "Here we define helper functions to process the histogram data and perform transformations."
   ]
  },
  {
   "cell_type": "code",
   "execution_count": null,
   "id": "f8f2ce5b",
   "metadata": {},
   "outputs": [],
   "source": [
    "def vel_to_bin(v):\n",
    "    return tuple(math.floor((v[i] - ranges[i][0]) / (ranges[i][1] - ranges[i][0]) * (bin_number - 1)) for i in range(3))\n",
    "\n",
    "def delta(x, eps):\n",
    "    return 1.0 / (eps * np.sqrt(2 * np.pi)) * np.exp(-x**2 / (2 * eps**2))"
   ]
  },
  {
   "cell_type": "markdown",
   "id": "ad372ebd",
   "metadata": {},
   "source": [
    "## Radon Transform Implementation\n",
    "The Radon transform $R[f](\\theta, s)$ of a 2D function $f(x, y)$ is given by:\n",
    "\n",
    "\\begin{equation}\n",
    "R[f](\\theta, s) = \\int_{-\\infty}^{\\infty} f(x', y') \\delta(x' \\cos\\theta + y' \\sin\\theta - s) \\, dx' \\, dy',\n",
    "\\end{equation}\n",
    "where:\n",
    "- $\\theta$: angle of projection (in radians).\n",
    "- $s$: distance from the origin along the projection direction.\n",
    "- $\\delta$: Dirac delta function.\n",
    "\n",
    "Implement the loop-based Radon transform for integration over the histogram."
   ]
  },
  {
   "cell_type": "code",
   "execution_count": null,
   "id": "84389eca",
   "metadata": {},
   "outputs": [],
   "source": [
    "def LoopRadontransform(w, wx, wy, wz):\n",
    "    integral = 0.0\n",
    "    for i in range(bin_number):\n",
    "        for j in range(bin_number):\n",
    "            for k in range(bin_number):\n",
    "                x_val = ranges[0][0] + (i + 0.5) * dx\n",
    "                y_val = ranges[1][0] + (j + 0.5) * dy\n",
    "                z_val = ranges[2][0] + (k + 0.5) * dz\n",
    "                delta_val = delta(wx * x_val + wy * y_val + wz * z_val - w, 25.)\n",
    "                integral += delta_val * hist[i, j, k]\n",
    "    return integral"
   ]
  },
  {
   "cell_type": "markdown",
   "id": "e8cfec1e",
   "metadata": {},
   "source": [
    "## Physical Model Functions\n",
    "Define rate functions that calculate the effects based on physical models, using the Radon transform."
   ]
  },
  {
   "cell_type": "code",
   "execution_count": null,
   "id": "27925227",
   "metadata": {},
   "outputs": [],
   "source": [
    "def FhatG(l, b, e, m, AA):\n",
    "    c = 299792.458  # speed of light in km/s\n",
    "    M = AA * 0.93149  # convert atomic mass unit to GeV\n",
    "    Mu = M * m / (M + m)\n",
    "    w = np.abs(M * e / Mu) * np.sqrt(2 * M * ((10**6) / (c**2)) * e)\n",
    "    nxg = np.cos(b) * np.cos(l)\n",
    "    nyg = np.cos(b) * np.sin(l)\n",
    "    nzg = np.sin(b)\n",
    "    return LoopRadontransform(w, nxg, nyg, nzg)"
   ]
  },
  {
   "cell_type": "markdown",
   "id": "a1a41f0d",
   "metadata": {},
   "source": [
    "## Rate Calculation and Mapping\n",
    "Use the above-defined physical models to calculate rates based on galactic coordinates and create a map."
   ]
  },
  {
   "cell_type": "code",
   "execution_count": null,
   "id": "4eb52bc1",
   "metadata": {},
   "outputs": [],
   "source": [
    "def xy2lb(x, y):\n",
    "    theta = np.arcsin(y / np.sqrt(2))\n",
    "    l = np.pi * (-x) / (2.0 * np.sqrt(2.0) * np.cos(theta))\n",
    "    b = np.arcsin((2.0 * theta + np.sin(2.0 * theta)) / np.pi)\n",
    "    return l, b\n",
    "\n",
    "def rate_mollweide(x, y):\n",
    "    l, b = xy2lb(x, y)\n",
    "    return FhatG(l, b, 5.0, 100.0, AtomicMassSi)  # Example parameters for energy and mass\n",
    "\n",
    "xx = np.linspace(-2.0 * np.sqrt(2), 2.0 * np.sqrt(2), 10)\n",
    "yy = np.linspace(-np.sqrt(2), np.sqrt(2), 10)\n",
    "map_data = [rate_mollweide(x, y) for x in xx for y in yy if (x**2 / 4 + y**2) < 2]\n",
    "\n",
    "np.save('/content/drive/MyDrive/Colab Notebooks/mapsdata.npy', map_data)"
   ]
  },
  {
   "cell_type": "markdown",
   "id": "dc521614",
   "metadata": {},
   "source": [
    "## Mollweide Mapping\n",
    "The Mollweide projection is used to represent the celestial sphere onto a 2D map. It is particularly useful in astronomy for visualizing large-scale data across the entire sky.\n",
    "\n",
    "The transformation from latitude $\\phi$ and longitude $\\lambda$ to coordinates $(x, y)$ is defined as:\n",
    "\n",
    "\\begin{equation}\n",
    "x = 2 \\sqrt{2} \\frac{\\lambda \\cos\\theta}{\\pi}, \\quad y = \\sqrt{2} \\sin\\theta,\n",
    "\\end{equation}\n",
    "where $\\theta$ is an auxiliary variable satisfying:\n",
    "\n",
    "\\begin{equation}\n",
    "2\\theta + \\sin(2\\theta) = \\pi \\sin\\phi.\n",
    "\\end{equation}\n",
    "Here, $\\theta$ is solved numerically."
   ]
  },
  {
   "cell_type": "markdown",
   "id": "fc48ec0d",
   "metadata": {},
   "source": [
    "## Event Rate Equations\n",
    "The event rate $F(\\ell, b, E)$ in terms of galactic coordinates $(\\ell, b)$ and energy $E$ is given by:\n",
    "\n",
    "\\begin{equation}\n",
    "F(\\ell, b, E) = \\int \\rho(v) \\cdot \\sigma(v, E) \\cdot v \\, dv,\n",
    "\\end{equation}\n",
    "where:\n",
    "- $\\rho(v)$: velocity distribution.\n",
    "- $\\sigma(v, E)$: cross-section depending on velocity and energy.\n",
    "- $v$: velocity magnitude.\n",
    "\n",
    "In the code, this is implemented using the Radon transform to project the velocity distribution onto specific directions defined by $\\ell$ and $b$."
   ]
  }
 ],
 "metadata": {
  "language_info": {
   "name": "python"
  }
 },
 "nbformat": 4,
 "nbformat_minor": 5
}
